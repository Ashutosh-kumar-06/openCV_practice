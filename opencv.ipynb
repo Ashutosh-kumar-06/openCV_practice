{
 "cells": [
  {
   "cell_type": "code",
   "execution_count": 1,
   "id": "f83805aa-ca9b-401f-a160-8939b262bb41",
   "metadata": {},
   "outputs": [],
   "source": [
    "import cv2"
   ]
  },
  {
   "cell_type": "code",
   "execution_count": 2,
   "id": "7b3520ad-480c-44e2-bd6f-328a31754db6",
   "metadata": {},
   "outputs": [
    {
     "name": "stdout",
     "output_type": "stream",
     "text": [
      "Collecting opencv-python\n",
      "  Using cached opencv_python-4.10.0.84-cp37-abi3-win_amd64.whl.metadata (20 kB)\n",
      "Collecting numpy>=1.21.2 (from opencv-python)\n",
      "  Downloading numpy-2.1.2-cp312-cp312-win_amd64.whl.metadata (59 kB)\n",
      "Using cached opencv_python-4.10.0.84-cp37-abi3-win_amd64.whl (38.8 MB)\n",
      "Downloading numpy-2.1.2-cp312-cp312-win_amd64.whl (12.6 MB)\n",
      "   ---------------------------------------- 0.0/12.6 MB ? eta -:--:--\n",
      "   ---- ----------------------------------- 1.3/12.6 MB 6.7 MB/s eta 0:00:02\n",
      "   --------- ------------------------------ 2.9/12.6 MB 7.3 MB/s eta 0:00:02\n",
      "   ----------------- ---------------------- 5.5/12.6 MB 9.3 MB/s eta 0:00:01\n",
      "   ------------------------ --------------- 7.6/12.6 MB 9.4 MB/s eta 0:00:01\n",
      "   ------------------------------ --------- 9.4/12.6 MB 9.5 MB/s eta 0:00:01\n",
      "   ---------------------------------------  12.3/12.6 MB 10.2 MB/s eta 0:00:01\n",
      "   ---------------------------------------- 12.6/12.6 MB 9.5 MB/s eta 0:00:00\n",
      "Installing collected packages: numpy, opencv-python\n",
      "Successfully installed numpy-2.1.2 opencv-python-4.10.0.84\n"
     ]
    }
   ],
   "source": [
    "!pip install opencv-python"
   ]
  },
  {
   "cell_type": "code",
   "execution_count": 1,
   "id": "c08156ca-44f9-4ca5-a712-00710e143148",
   "metadata": {},
   "outputs": [
    {
     "name": "stdout",
     "output_type": "stream",
     "text": [
      "4.10.0\n"
     ]
    }
   ],
   "source": [
    "import cv2\n",
    "\n",
    "# Print OpenCV version\n",
    "print(cv2.__version__)\n"
   ]
  },
  {
   "cell_type": "code",
   "execution_count": 2,
   "id": "11ef2f4b-99fc-439a-a6c0-67a855a0f901",
   "metadata": {},
   "outputs": [
    {
     "ename": "error",
     "evalue": "OpenCV(4.10.0) D:\\a\\opencv-python\\opencv-python\\opencv\\modules\\highgui\\src\\window.cpp:973: error: (-215:Assertion failed) size.width>0 && size.height>0 in function 'cv::imshow'\n",
     "output_type": "error",
     "traceback": [
      "\u001b[1;31m---------------------------------------------------------------------------\u001b[0m",
      "\u001b[1;31merror\u001b[0m                                     Traceback (most recent call last)",
      "Cell \u001b[1;32mIn[2], line 2\u001b[0m\n\u001b[0;32m      1\u001b[0m img\u001b[38;5;241m=\u001b[39mcv2\u001b[38;5;241m.\u001b[39mimread(\u001b[38;5;124m\"\u001b[39m\u001b[38;5;124mD:/node js back/krti pic.jpeg\u001b[39m\u001b[38;5;124m\"\u001b[39m)\n\u001b[1;32m----> 2\u001b[0m cv2\u001b[38;5;241m.\u001b[39mimshow(\u001b[38;5;124m\"\u001b[39m\u001b[38;5;124mashu\u001b[39m\u001b[38;5;124m\"\u001b[39m,img)\n\u001b[0;32m      3\u001b[0m img1\u001b[38;5;241m=\u001b[39mcv2\u001b[38;5;241m.\u001b[39mimread(\u001b[38;5;124m\"\u001b[39m\u001b[38;5;124mD:/node js back/sai pallvi pics.webp\u001b[39m\u001b[38;5;124m\"\u001b[39m)\n\u001b[0;32m      4\u001b[0m cv2\u001b[38;5;241m.\u001b[39mimshow(\u001b[38;5;124m\"\u001b[39m\u001b[38;5;124mashu1\u001b[39m\u001b[38;5;124m\"\u001b[39m,img1)\n",
      "\u001b[1;31merror\u001b[0m: OpenCV(4.10.0) D:\\a\\opencv-python\\opencv-python\\opencv\\modules\\highgui\\src\\window.cpp:973: error: (-215:Assertion failed) size.width>0 && size.height>0 in function 'cv::imshow'\n"
     ]
    }
   ],
   "source": [
    "img=cv2.imread(\"D:/node js back/krti pic.jpeg\")\n",
    "cv2.imshow(\"ashu\",img)\n",
    "img1=cv2.imread(\"D:/node js back/sai pallvi pics.webp\")\n",
    "cv2.imshow(\"ashu1\",img1)\n",
    "cv2.waitKey(0)\n",
    "cv2.destroyAllWindows()\n",
    "# cv2.destroyWindow(\"ashu\")\n",
    "\n",
    "\n",
    "\n"
   ]
  },
  {
   "cell_type": "code",
   "execution_count": 3,
   "id": "a2b19700-2b29-43c6-a07c-85c344cf0474",
   "metadata": {},
   "outputs": [],
   "source": [
    "import numpy as np\n",
    "import os "
   ]
  },
  {
   "cell_type": "code",
   "execution_count": 21,
   "id": "aa5d6c32-16bb-40e5-877d-989620933ed5",
   "metadata": {},
   "outputs": [],
   "source": [
    "img3=cv2.imread(\"D:/node js back/dripti pics.webp\")\n",
    "re_img=cv2.resize(img3,(800,800))\n",
    "cv2.imshow(\"ashu3\",re_img)\n",
    "cv2.waitKey(0)\n",
    "cv2.destroyAllWindows()\n"
   ]
  },
  {
   "cell_type": "code",
   "execution_count": 22,
   "id": "0c8966b6-171d-4206-8c73-c00c6a96e784",
   "metadata": {},
   "outputs": [
    {
     "name": "stdout",
     "output_type": "stream",
     "text": [
      "[[[183 197 216]\n",
      "  [182 196 215]\n",
      "  [182 196 215]\n",
      "  ...\n",
      "  [174 197 219]\n",
      "  [173 197 219]\n",
      "  [173 197 219]]\n",
      "\n",
      " [[183 197 216]\n",
      "  [182 196 215]\n",
      "  [182 196 215]\n",
      "  ...\n",
      "  [167 190 212]\n",
      "  [167 191 213]\n",
      "  [168 192 214]]\n",
      "\n",
      " [[182 196 215]\n",
      "  [182 196 215]\n",
      "  [181 195 214]\n",
      "  ...\n",
      "  [157 181 203]\n",
      "  [159 183 205]\n",
      "  [161 185 207]]\n",
      "\n",
      " ...\n",
      "\n",
      " [[ 63  81 118]\n",
      "  [ 61  79 116]\n",
      "  [ 58  76 113]\n",
      "  ...\n",
      "  [ 26  28  36]\n",
      "  [ 27  29  37]\n",
      "  [ 27  29  37]]\n",
      "\n",
      " [[ 62  80 117]\n",
      "  [ 60  78 115]\n",
      "  [ 57  75 112]\n",
      "  ...\n",
      "  [ 29  31  39]\n",
      "  [ 30  32  40]\n",
      "  [ 31  33  41]]\n",
      "\n",
      " [[ 61  79 116]\n",
      "  [ 59  77 114]\n",
      "  [ 56  74 111]\n",
      "  ...\n",
      "  [ 31  33  41]\n",
      "  [ 31  33  41]\n",
      "  [ 33  35  43]]]\n"
     ]
    }
   ],
   "source": [
    "print(img)\n"
   ]
  },
  {
   "cell_type": "code",
   "execution_count": 5,
   "id": "59bef13f-1db2-45f4-89ed-3621cfc3a4b4",
   "metadata": {},
   "outputs": [],
   "source": [
    "img1=cv2.imread(\"D:/pics/sai pallvi pics.webp\")\n",
    "re_img=cv2.resize(img1,(300,300))\n",
    "h=np.hstack((re_img,re_img,re_img,re_img))\n",
    "v=np.vstack((h,h))\n",
    "cv2.imshow(\"ashu1\",v)\n",
    "cv2.waitKey(0)\n",
    "cv2.destroyAllWindows()"
   ]
  },
  {
   "cell_type": "code",
   "execution_count": 7,
   "id": "6db7c8d6-af57-45cd-96b8-8d74bfd189d3",
   "metadata": {},
   "outputs": [
    {
     "data": {
      "text/plain": [
       "['demo.mp4',\n",
       " 'demo1.mp4',\n",
       " 'demo2.mp4',\n",
       " 'disha pics.webp',\n",
       " 'dripti pics.jpg',\n",
       " 'krti pic.jpeg',\n",
       " 'merge_img.png',\n",
       " 'paper.jpg',\n",
       " 'ppdt.mp4',\n",
       " 'sai pallvi pics.webp',\n",
       " 'shurti pics.webp']"
      ]
     },
     "execution_count": 7,
     "metadata": {},
     "output_type": "execute_result"
    }
   ],
   "source": [
    "listname=os.listdir(\"D:/pics\")\n",
    "listname"
   ]
  },
  {
   "cell_type": "code",
   "execution_count": 10,
   "id": "d38fd32c-0f95-42bd-9eec-5b9e5c3e144b",
   "metadata": {},
   "outputs": [
    {
     "ename": "error",
     "evalue": "OpenCV(4.10.0) D:\\a\\opencv-python\\opencv-python\\opencv\\modules\\highgui\\src\\window.cpp:973: error: (-215:Assertion failed) size.width>0 && size.height>0 in function 'cv::imshow'\n",
     "output_type": "error",
     "traceback": [
      "\u001b[1;31m---------------------------------------------------------------------------\u001b[0m",
      "\u001b[1;31merror\u001b[0m                                     Traceback (most recent call last)",
      "Cell \u001b[1;32mIn[10], line 6\u001b[0m\n\u001b[0;32m      3\u001b[0m     img_name\u001b[38;5;241m=\u001b[39mpath\u001b[38;5;241m+\u001b[39m\u001b[38;5;124m\"\u001b[39m\u001b[38;5;124m/\u001b[39m\u001b[38;5;124m\"\u001b[39m\u001b[38;5;241m+\u001b[39mname\n\u001b[0;32m      4\u001b[0m     img\u001b[38;5;241m=\u001b[39mcv2\u001b[38;5;241m.\u001b[39mimread(img_name)\n\u001b[1;32m----> 6\u001b[0m     cv2\u001b[38;5;241m.\u001b[39mimshow(\u001b[38;5;124m\"\u001b[39m\u001b[38;5;124mashu4\u001b[39m\u001b[38;5;124m\"\u001b[39m,img)\n\u001b[0;32m      7\u001b[0m     cv2\u001b[38;5;241m.\u001b[39mwaitKey(\u001b[38;5;241m1000\u001b[39m)\n\u001b[0;32m      8\u001b[0m cv2\u001b[38;5;241m.\u001b[39mdestroyAllWindows()\n",
      "\u001b[1;31merror\u001b[0m: OpenCV(4.10.0) D:\\a\\opencv-python\\opencv-python\\opencv\\modules\\highgui\\src\\window.cpp:973: error: (-215:Assertion failed) size.width>0 && size.height>0 in function 'cv::imshow'\n"
     ]
    }
   ],
   "source": [
    "for name in listname:\n",
    "    path=\"D:/pics\"\n",
    "    img_name=path+\"/\"+name\n",
    "    img=cv2.imread(img_name)\n",
    "    \n",
    "    cv2.imshow(\"ashu4\",img)\n",
    "    cv2.waitKey(1000)\n",
    "cv2.destroyAllWindows()"
   ]
  },
  {
   "cell_type": "code",
   "execution_count": 11,
   "id": "a0c5ddd9-4e41-426a-8075-fe4248fe313c",
   "metadata": {},
   "outputs": [],
   "source": [
    "img4=cv2.imread(\"D:/pics/sai pallvi pics.webp\",0)\n",
    "\n",
    "cv2.imshow(\"ashu1\",img4)\n",
    "cv2.waitKey(0)\n",
    "cv2.destroyAllWindows()"
   ]
  },
  {
   "cell_type": "code",
   "execution_count": 11,
   "id": "b88494ce-462b-4617-9e78-fd25e1d72595",
   "metadata": {},
   "outputs": [],
   "source": [
    "img4=cv2.imread(\"D:/pics/sai pallvi pics.webp\",-1)\n",
    "\n",
    "cv2.imshow(\"ashu1\",img4)\n",
    "cv2.waitKey(0)\n",
    "cv2.destroyAllWindows()"
   ]
  },
  {
   "cell_type": "code",
   "execution_count": 12,
   "id": "e7398759-230a-4c8b-a715-aa51a4cba6a6",
   "metadata": {},
   "outputs": [],
   "source": [
    "img4=cv2.imread(\"D:/pics/sai pallvi pics.webp\")\n",
    "txt=cv2.putText(\n",
    "img=img4,\n",
    "text=\"Sai pallvi- prettiest smile of the world\",\n",
    "org=(100,100),\n",
    "fontFace=cv2.FONT_HERSHEY_DUPLEX,\n",
    "fontScale=1,\n",
    "color=(0,0,255),\n",
    "thickness=2,\n",
    "lineType=cv2.LINE_8)\n",
    "cv2.imshow(\"ashu1\",img4)\n",
    "cv2.waitKey(0)\n",
    "cv2.destroyAllWindows()"
   ]
  },
  {
   "cell_type": "code",
   "execution_count": 14,
   "id": "2461e77d-10c6-451c-9026-8d744288fbe8",
   "metadata": {},
   "outputs": [],
   "source": [
    "img4=cv2.imread(\"D:/pics/sai pallvi pics.webp\")\n",
    "new_img=cv2.line(img=img4,pt1=(500,300),pt2=(700,300),color=(0,255,0),thickness=4,lineType=4)\n",
    "cv2.imshow(\"ashu1\",new_img)\n",
    "cv2.waitKey(0)\n",
    "cv2.destroyAllWindows()"
   ]
  },
  {
   "cell_type": "code",
   "execution_count": 13,
   "id": "30e97885-0242-4423-9efd-8d9faa6e3cd6",
   "metadata": {},
   "outputs": [],
   "source": [
    "img4=cv2.imread(\"D:/pics/sai pallvi pics.webp\")\n",
    "new_img=cv2.rectangle(img=img4,pt1=(390,300),pt2=(710,710),color=(0,255,0),thickness=4,lineType=4)\n",
    "cv2.imshow(\"ashu1\",new_img)\n",
    "cv2.waitKey(0)\n",
    "cv2.destroyAllWindows()"
   ]
  },
  {
   "cell_type": "code",
   "execution_count": 15,
   "id": "d20858b2-7ced-4ff8-bd26-5e7107a9b75d",
   "metadata": {},
   "outputs": [],
   "source": [
    "img4=cv2.imread(\"D:/pics/sai pallvi pics.webp\")\n",
    "new_img=cv2.circle(img=img4,center=(500,500),radius=250,color=(0,255,0),thickness=4,lineType=16)\n",
    "cv2.imshow(\"ashu1\",new_img)\n",
    "cv2.waitKey(0)\n",
    "cv2.destroyAllWindows()"
   ]
  },
  {
   "cell_type": "code",
   "execution_count": 16,
   "id": "9c8ae0d1-4e61-478e-b894-e24b1e3e653f",
   "metadata": {},
   "outputs": [],
   "source": [
    "img4=cv2.imread(\"D:/pics/sai pallvi pics.webp\")\n",
    "new_img=cv2.ellipse(img=img4,center=(550,450),axes=(200,300),angle=15,startAngle=0,endAngle=360,color=(0,255,0),thickness=4,lineType=16)\n",
    "cv2.imshow(\"ashu1\",new_img)\n",
    "cv2.waitKey(0)\n",
    "cv2.destroyAllWindows()"
   ]
  },
  {
   "cell_type": "code",
   "execution_count": 21,
   "id": "ea8bdc94-ae4a-4062-b8f9-f1043edc2a03",
   "metadata": {},
   "outputs": [],
   "source": [
    "img4=cv2.imread(\"D:/pics/sai pallvi pics.webp\")\n",
    "new_img=cv2.polylines(img=img4,pts=[np.array([[500,500],[400,300],[400,700],[700,400],[700,700]])],isClosed=True,color=(0,255,0),thickness=4,lineType=16)\n",
    "cv2.imshow(\"ashu1\",new_img)\n",
    "cv2.waitKey(0)\n",
    "cv2.destroyAllWindows()"
   ]
  },
  {
   "cell_type": "code",
   "execution_count": 19,
   "id": "5ae6bae1-9bce-4c2b-8a24-c96ede397ad0",
   "metadata": {},
   "outputs": [],
   "source": [
    "img4=cv2.imread(\"D:/pics/sai pallvi pics.webp\")\n",
    "img5=cv2.imread(\"D:/pics/shurti pics.webp\")\n",
    "img1=cv2.resize(img4,(500,500))\n",
    "img2=cv2.resize(img5,(500,500))\n",
    "new_img=cv2.addWeighted(img1,1,img2,1,1)\n",
    "cv2.imshow(\"ashu1\",new_img)\n",
    "cv2.waitKey(0)\n",
    "cv2.destroyAllWindows()\n"
   ]
  },
  {
   "cell_type": "code",
   "execution_count": null,
   "id": "7d406061-ddcc-457a-ba68-593428802843",
   "metadata": {},
   "outputs": [],
   "source": [
    "img4=cv2.imread(\"D:/pics/sai pallvi pics.webp\")\n",
    "img5=cv2.imread(\"D:/pics/shurti pics.webp\")\n",
    "img1=cv2.resize(img4,(500,500))\n",
    "img2=cv2.resize(img5,(500,500))\n",
    "new_img=cv2.subtract(img1,img2)\n",
    "cv2.imshow(\"ashu1\",new_img)\n",
    "cv2.waitKey(0)\n",
    "cv2.destroyAllWindows()"
   ]
  },
  {
   "cell_type": "code",
   "execution_count": 40,
   "id": "e4bebdde-fa84-4dd9-81f1-c55024756b38",
   "metadata": {},
   "outputs": [],
   "source": [
    "img4=cv2.imread(\"D:/pics/sai pallvi pics.webp\")\n",
    "img5=cv2.imread(\"D:/pics/shurti pics.webp\")\n",
    "img1=cv2.resize(img4,(500,500))\n",
    "img2=cv2.resize(img5,(500,500))\n",
    "# new_img=cv2.bitwise_xor(img1,img2)\n",
    "new_img=cv2.bitwise_not(img1)\n",
    "cv2.imshow(\"ashu1\",new_img)\n",
    "cv2.waitKey(0)\n",
    "cv2.destroyAllWindows()"
   ]
  },
  {
   "cell_type": "code",
   "execution_count": 81,
   "id": "ed05cda4-f322-443d-91bd-ff6c6cd57642",
   "metadata": {},
   "outputs": [],
   "source": [
    "#edge detect\n",
    "img4=cv2.imread(\"D:/pics/sai pallvi pics.webp\")\n",
    "img1=cv2.resize(img4,(500,500))\n",
    "new_img=cv2.Canny(img1,500,500,apertureSize=5,L2gradient=False)\n",
    "cv2.imshow(\"ashu1\",new_img)\n",
    "cv2.waitKey(0)\n",
    "cv2.destroyAllWindows()"
   ]
  },
  {
   "cell_type": "code",
   "execution_count": 86,
   "id": "8f5e6242-302c-4ce2-9b07-e05ebf094d42",
   "metadata": {},
   "outputs": [],
   "source": [
    "#resize\n",
    "img4=cv2.imread(\"D:/pics/dripti pics.jpg\")\n",
    "img1=cv2.resize(img4,(600,700))\n",
    "w,h=img1.shape[0],img1.shape[1]\n",
    "m=cv2.getRotationMatrix2D((w/2,h/2),45,1)\n",
    "new_img=cv2.warpAffine(img1,m,(h))\n",
    "cv2.imshow(\"ashu1\",new_img)\n",
    "cv2.waitKey(0)\n",
    "cv2.destroyAllWindows()"
   ]
  },
  {
   "cell_type": "code",
   "execution_count": 96,
   "id": "274c8b46-3b6a-4d4a-988c-265f4b3ff743",
   "metadata": {},
   "outputs": [],
   "source": [
    "#blurring\n",
    "img4=cv2.imread(\"D:/pics/dripti pics.jpg\")\n",
    "img1=cv2.resize(img4,(300,300))\n",
    "g=cv2.GaussianBlur(img1,(7,7),0)\n",
    "m=cv2.medianBlur(img1,5)\n",
    "b=cv2.bilateralFilter(img1,9,75,75)\n",
    "h=np.hstack((img1,g,m,b))\n",
    "cv2.imshow(\"ashu1\",h)\n",
    "cv2.waitKey(0)\n",
    "cv2.destroyAllWindows()"
   ]
  },
  {
   "cell_type": "code",
   "execution_count": 105,
   "id": "4c06f86e-d09a-4838-a608-becd9f773cae",
   "metadata": {},
   "outputs": [],
   "source": [
    "img4=cv2.imread(\"D:/pics/sai pallvi pics.webp\")\n",
    "img5=cv2.imread(\"D:/pics/dripti pics.jpg\")\n",
    "img1=cv2.resize(img4,(400,400))\n",
    "img2=cv2.resize(img5,(400,400))\n",
    "h=np.hstack((img1,img2))\n",
    "v=np.vstack((h,h))\n",
    "cv2.imwrite(\"D:/pics/merge_img.png\",v)\n",
    "cv2.imshow(\"ashu1\",v)\n",
    "cv2.waitKey(0)\n",
    "cv2.destroyAllWindows()"
   ]
  },
  {
   "cell_type": "code",
   "execution_count": 108,
   "id": "dbd48b16-d944-4c02-810a-43e36c81b144",
   "metadata": {},
   "outputs": [],
   "source": [
    "#make border\n",
    "img5=cv2.imread(\"D:/pics/dripti pics.jpg\")\n",
    "img1=cv2.resize(img5,(400,400))\n",
    "img1=cv2.copyMakeBorder(img1,20,20,20,20,cv2.BORDER_CONSTANT,None,value=2)\n",
    "cv2.imshow(\"ashu1\",img1)\n",
    "cv2.waitKey(0)\n",
    "cv2.destroyAllWindows()"
   ]
  },
  {
   "cell_type": "code",
   "execution_count": 4,
   "id": "deb4758a-f13e-46d0-b7f3-e18023f20fdb",
   "metadata": {},
   "outputs": [],
   "source": [
    "cap=cv2.VideoCapture(\"D:/pics/ppdt.mp4\")\n",
    "while cap.isOpened():\n",
    "    r,frame=cap.read()\n",
    "    frame=cv2.resize(frame,(600,400))\n",
    "   \n",
    "    if r==True:\n",
    "        cv2.imshow(\"ashu1\",frame)\n",
    "        if cv2.waitKey(4) & 0xff == ord(\"p\"):\n",
    "            break\n",
    "cap.release()\n",
    "cv2.destroyAllWindows()"
   ]
  },
  {
   "cell_type": "code",
   "execution_count": 11,
   "id": "9149db35-5aed-4a05-abc1-077d4eca3500",
   "metadata": {},
   "outputs": [],
   "source": [
    "img5=cv2.imread(\"D:/pics/dripti pics.jpg\")\n",
    "\n",
    "new=cv2.pyrDown(img5)\n",
    "new1=cv2.pyrDown(new)\n",
    "new2=cv2.pyrDown(new1)\n",
    "big_img=cv2.pyrUp(new2)\n",
    "big_img1=cv2.pyrUp(big_img)\n",
    "big_img2=cv2.pyrUp(big_img1)\n",
    "# cv2.imshow(\"ashu1\",new)\n",
    "# cv2.imshow(\"ashu2\",new1)\n",
    "cv2.imshow(\"ashu\",big_img)\n",
    "cv2.imshow(\"ashu2\",big_img1)\n",
    "cv2.imshow(\"ashu3\",big_img2)\n",
    "cv2.waitKey(0)\n",
    "cv2.destroyAllWindows()"
   ]
  },
  {
   "cell_type": "code",
   "execution_count": 12,
   "id": "6813a295-7f1a-4231-bb9d-ae2b8ccf9ac2",
   "metadata": {},
   "outputs": [],
   "source": [
    "img5=cv2.imread(\"D:/pics/dripti pics.jpg\")\n",
    "img1=cv2.resize(img5,(400,400))\n",
    "m=np.float32([[1,0,100],[0,1,50]])\n",
    "new=cv2.warpAffine(img1,m,(400,400))\n",
    "cv2.imshow(\"ashu2\",img1)\n",
    "cv2.imshow(\"ashu3\",new)\n",
    "cv2.waitKey(0)\n",
    "cv2.destroyAllWindows()"
   ]
  },
  {
   "cell_type": "code",
   "execution_count": 14,
   "id": "48d4e739-e4bf-4303-8132-3920dc0315d9",
   "metadata": {},
   "outputs": [],
   "source": [
    "cap=cv2.VideoCapture(\"D:/pics/ppdt.mp4\")\n",
    "sub_m=cv2.createBackgroundSubtractorMOG2()\n",
    "while True:\n",
    "    r,frame=cap.read()\n",
    "    if r==True:\n",
    "        frame=cv2.resize(frame,(600,400))\n",
    "        sub_v=sub_m.apply(frame)\n",
    "        cv2.imshow(\"ashu3\",frame)\n",
    "        cv2.imshow(\"ashu\",sub_v)\n",
    "        if cv2.waitKey(25) & 0xff == ord(\"p\"):\n",
    "            break\n",
    "    else:\n",
    "        break\n",
    "cap.release()\n",
    "cv2.destroyAllWindows()\n"
   ]
  },
  {
   "cell_type": "code",
   "execution_count": 15,
   "id": "b0433ff8-d2ff-45f0-84db-2bdaf99e2b34",
   "metadata": {},
   "outputs": [],
   "source": [
    "cap=cv2.VideoCapture(\"D:/pics/ppdt.mp4\")\n",
    "c=0\n",
    "while True:\n",
    "    r,frame=cap.read()\n",
    "    if r==True:\n",
    "        frame=cv2.resize(frame,(600,400))\n",
    "        filename=\"D:/vpic\"+\"org_img\"+str(c)+\".png\"\n",
    "        cv2.imwrite(filename,frame)\n",
    "        c+=1\n",
    "        cv2.imshow(\"ashu3\",frame)\n",
    "        if cv2.waitKey(25) & 0xff == ord(\"p\"):\n",
    "            break\n",
    "    else:\n",
    "        break\n",
    "cap.release()\n",
    "cv2.destroyAllWindows()\n",
    "        "
   ]
  },
  {
   "cell_type": "code",
   "execution_count": 18,
   "id": "acaab549-a903-429c-9785-5f01ff75e27c",
   "metadata": {},
   "outputs": [],
   "source": [
    "img5=cv2.imread(\"D:/pics/dripti pics.jpg\")\n",
    "img1=cv2.resize(img5,(400,400))\n",
    "# new=cv2.cvtColor(img1,cv2.COLOR_BGR2GRAY)\n",
    "# new=cv2.cvtColor(img1,cv2.COLOR_BGR2HSV)\n",
    "new=cv2.cvtColor(img1,cv2.COLOR_BGR2HLS)\n",
    "cv2.imshow(\"ashu3\",new)\n",
    "cv2.imshow(\"ashu\",img1)\n",
    "cv2.waitKey(0)\n",
    "cv2.destroyAllWindows()"
   ]
  },
  {
   "cell_type": "code",
   "execution_count": 20,
   "id": "355c9ed9-a66f-4b29-a3cc-595b1ca1abee",
   "metadata": {},
   "outputs": [],
   "source": [
    "img5=cv2.imread(\"D:/pics/dripti pics.jpg\")\n",
    "img1=cv2.resize(img5,(400,400))\n",
    "crop=img1[200:,:]\n",
    "cv2.imshow(\"ashu\",crop)\n",
    "cv2.waitKey(0)\n",
    "cv2.destroyAllWindows()"
   ]
  },
  {
   "cell_type": "code",
   "execution_count": 21,
   "id": "a527ef36-cafd-49ca-9b26-af63357a4748",
   "metadata": {},
   "outputs": [],
   "source": [
    "new=np.ones((500,500,3),np.uint8)*255\n",
    "cv2.imshow(\"ashu\",new)\n",
    "cv2.waitKey(0)\n",
    "cv2.destroyAllWindows()"
   ]
  },
  {
   "cell_type": "code",
   "execution_count": 22,
   "id": "e953ab8a-522d-461c-8a5c-7f862e6d62b4",
   "metadata": {},
   "outputs": [],
   "source": [
    "new=np.zeros((500,500,3),np.uint8)*255\n",
    "cv2.imshow(\"ashu\",new)\n",
    "cv2.waitKey(0)\n",
    "cv2.destroyAllWindows()"
   ]
  },
  {
   "cell_type": "code",
   "execution_count": 4,
   "id": "5ee9f364-7e1e-4dc1-8df0-cb125cb952a6",
   "metadata": {},
   "outputs": [],
   "source": [
    "def fun(x):\n",
    "    pass"
   ]
  },
  {
   "cell_type": "code",
   "execution_count": 5,
   "id": "8a7c1f8d-cc59-4084-b938-c3aacb665b25",
   "metadata": {},
   "outputs": [],
   "source": [
    "new=np.zeros((500,500,3),np.uint8)*255\n",
    "cv2.namedWindow(\"colour\")\n",
    "cv2.createTrackbar(\"R\",\"colour\",0,255,fun)\n",
    "cv2.createTrackbar(\"G\",\"colour\",0,255,fun)\n",
    "cv2.createTrackbar(\"B\",\"colour\",0,255,fun)\n",
    "while True:\n",
    "    cv2.imshow(\"colour\",new)\n",
    "    if cv2.waitKey(25) & 0xff == ord(\"p\"):\n",
    "        break\n",
    "    r=cv2.getTrackbarPos(\"R\",\"colour\")\n",
    "    g=cv2.getTrackbarPos(\"G\",\"colour\")\n",
    "    b=cv2.getTrackbarPos(\"B\",\"colour\")\n",
    "    new[:]=[b,g,r]\n",
    "cv2.destroyAllWindows()"
   ]
  },
  {
   "cell_type": "code",
   "execution_count": 9,
   "id": "98e808b9-e8a1-4de0-bb0a-c4f91488508a",
   "metadata": {},
   "outputs": [
    {
     "ename": "NameError",
     "evalue": "name 'fun' is not defined",
     "output_type": "error",
     "traceback": [
      "\u001b[1;31m---------------------------------------------------------------------------\u001b[0m",
      "\u001b[1;31mNameError\u001b[0m                                 Traceback (most recent call last)",
      "Cell \u001b[1;32mIn[9], line 3\u001b[0m\n\u001b[0;32m      1\u001b[0m new\u001b[38;5;241m=\u001b[39mnp\u001b[38;5;241m.\u001b[39mzeros((\u001b[38;5;241m500\u001b[39m,\u001b[38;5;241m500\u001b[39m,\u001b[38;5;241m3\u001b[39m),np\u001b[38;5;241m.\u001b[39muint8)\n\u001b[0;32m      2\u001b[0m cv2\u001b[38;5;241m.\u001b[39mnamedWindow(\u001b[38;5;124m\"\u001b[39m\u001b[38;5;124mbar\u001b[39m\u001b[38;5;124m\"\u001b[39m)\n\u001b[1;32m----> 3\u001b[0m cv2\u001b[38;5;241m.\u001b[39mcreateTrackbar(\u001b[38;5;124m\"\u001b[39m\u001b[38;5;124mon\u001b[39m\u001b[38;5;124m\"\u001b[39m,\u001b[38;5;124m\"\u001b[39m\u001b[38;5;124mbar\u001b[39m\u001b[38;5;124m\"\u001b[39m,\u001b[38;5;241m0\u001b[39m,\u001b[38;5;241m100\u001b[39m,fun)\n\u001b[0;32m      4\u001b[0m \u001b[38;5;28;01mwhile\u001b[39;00m \u001b[38;5;28;01mTrue\u001b[39;00m:\n\u001b[0;32m      5\u001b[0m     cv2\u001b[38;5;241m.\u001b[39mimshow(\u001b[38;5;124m\"\u001b[39m\u001b[38;5;124mbar\u001b[39m\u001b[38;5;124m\"\u001b[39m,new)\n",
      "\u001b[1;31mNameError\u001b[0m: name 'fun' is not defined"
     ]
    }
   ],
   "source": [
    "new=np.zeros((500,500,3),np.uint8)\n",
    "cv2.namedWindow(\"bar\")\n",
    "cv2.createTrackbar(\"on\",\"bar\",0,100,fun)\n",
    "while True:\n",
    "    cv2.imshow(\"bar\",new)\n",
    "    if cv2.waitKey(1) & 0xff == ord(\"p\"):\n",
    "        break\n",
    "    var=cv2.getTrackbarPos(\"on\",\"bar\")\n",
    "    new[:]=[0,0,var]\n",
    "cv2.destroyAllWindows()"
   ]
  },
  {
   "cell_type": "code",
   "execution_count": 8,
   "id": "5fd6f77a-85f7-4cb8-9c06-398333a1b434",
   "metadata": {},
   "outputs": [],
   "source": [
    "img5=cv2.imread(\"D:/pics/dripti pics.jpg\")\n",
    "img5=cv2.resize(img5,(800,800))\n",
    "crop=img5[105:700,200:650]\n",
    "img5[105:700,100:550]=crop\n",
    "cv2.imshow(\"ashu\",img5)\n",
    "cv2.waitKey(0)\n",
    "cv2.destroyAllWindows()"
   ]
  },
  {
   "cell_type": "code",
   "execution_count": 30,
   "id": "536898eb-507d-4a9c-9efe-98c55ecdbbd9",
   "metadata": {},
   "outputs": [],
   "source": [
    "img4=cv2.imread(\"D:/pics/sai pallvi pics.webp\")\n",
    "img5=cv2.resize(img4,(500,500))\n",
    "# img1=cv2.flip(img5,1)  #y-axix about\n",
    "# img2=cv2.flip(img5,0)  #x-axix about\n",
    "# img3=cv2.flip(img5,-1)  #x,y-axix about\n",
    "\n",
    "cv2.imshow(\"ashu\",img2)\n",
    "cv2.waitKey(0)\n",
    "cv2.destroyAllWindows()"
   ]
  },
  {
   "cell_type": "code",
   "execution_count": 40,
   "id": "7822802e-81ef-4077-b9dc-bf4918321252",
   "metadata": {},
   "outputs": [],
   "source": [
    "#gray video\n",
    "cap=cv2.VideoCapture(0)\n",
    "f=cv2.VideoWriter_fourcc(*\"XVID\")\n",
    "out=cv2.VideoWriter(\"D:/pics/demo2.mp4\",f,25.0,(640,480),0)\n",
    "while cap.isOpened():\n",
    "    r,frame=cap.read()\n",
    "    if r==True:\n",
    "        frame=cv2.cvtColor(frame,cv2.COLOR_BGR2GRAY)\n",
    "        frame=cv2.flip(frame,1)\n",
    "        out.write(frame)\n",
    "        cv2.imshow(\"ashu\",frame)\n",
    "        if cv2.waitKey(1) & 0xff == ord(\"p\"):\n",
    "            break\n",
    "    else:\n",
    "        break\n",
    "cap.release()\n",
    "out.release()\n",
    "cv2.destroyAllWindows()"
   ]
  },
  {
   "cell_type": "code",
   "execution_count": null,
   "id": "b2099f4d-26c6-4d0f-b72d-c5cf863c1127",
   "metadata": {},
   "outputs": [],
   "source": [
    "#normalvideo\n",
    "cap=cv2.VideoCapture(0)\n",
    "f=cv2.VideoWriter_fourcc(*\"XVID\")\n",
    "out=cv2.VideoWriter(\"D:/pics/demo2.mp4\",f,25.0,(640,480))\n",
    "while cap.isOpened():\n",
    "    r,frame=cap.read()\n",
    "    if r==True:\n",
    "        # frame=cv2.cvtColor(frame,cv2.COLOR_BGR2GRAY)\n",
    "        frame=cv2.flip(frame,1)\n",
    "        out.write(frame)\n",
    "        cv2.imshow(\"ashu\",frame)\n",
    "        if cv2.waitKey(1) & 0xff == ord(\"p\"):\n",
    "            break\n",
    "    else:\n",
    "        break\n",
    "cap.release()\n",
    "out.release()\n",
    "cv2.destroyAllWindows()"
   ]
  },
  {
   "cell_type": "code",
   "execution_count": null,
   "id": "d94fe6f9-7d4d-48fe-9ed2-a0fea920b035",
   "metadata": {},
   "outputs": [],
   "source": [
    "cap=cv2.VideoCapture(0)\n",
    "def fun(x):\n",
    "    pass\n",
    "cv2.namedWindow(\"color\")\n",
    "cv2.createTrackbar(\"lR\",\"colour\",0,255,fun)\n",
    "cv2.createTrackbar(\"lG\",\"colour\",0,255,fun)\n",
    "cv2.createTrackbar(\"lB\",\"colour\",0,255,fun)\n",
    "\n",
    "cv2.createTrackbar(\"uR\",\"colour\",255,255,fun)\n",
    "cv2.createTrackbar(\"uG\",\"colour\",255,255,fun)\n",
    "cv2.createTrackbar(\"uB\",\"colour\",255,255,fun)\n"
   ]
  },
  {
   "cell_type": "code",
   "execution_count": 44,
   "id": "8e449c51-78d1-4692-a440-0853e73b744c",
   "metadata": {},
   "outputs": [],
   "source": [
    "img5=cv2.imread(\"D:/pics/paper.jpg\")\n",
    "cv2.circle(img5,(66,421),4,(0,0,255),-1)\n",
    "cv2.circle(img5,(432,441),4,(0,0,255),-1)\n",
    "cv2.circle(img5,(66,669),4,(0,0,255),-1)\n",
    "cv2.circle(img5,(510,680),4,(0,0,255),-1)\n",
    "cv2.imshow(\"ashu\",img5)\n",
    "cv2.waitKey(0)\n",
    "cv2.destroyAllWindows()\n"
   ]
  },
  {
   "cell_type": "code",
   "execution_count": 47,
   "id": "bcbba7cc-84b2-4e1d-8626-1cacd204682e",
   "metadata": {},
   "outputs": [
    {
     "name": "stdout",
     "output_type": "stream",
     "text": [
      "(1280, 576, 3)\n"
     ]
    }
   ],
   "source": [
    "img5=cv2.imread(\"D:/pics/paper.jpg\")\n",
    "print(img5.shape)"
   ]
  },
  {
   "cell_type": "code",
   "execution_count": 7,
   "id": "954c1e8a-6adb-4d57-b1bb-1e0d07243ee0",
   "metadata": {},
   "outputs": [],
   "source": [
    "img5=cv2.imread(\"D:/pics/paper.jpg\")\n",
    "w,h=(576,1280)\n",
    "scr1=np.float32([[66,421],[432,441],[66,669],[510,680]])\n",
    "dst1=np.float32([[0,0],[w,0],[0,h],[w,h]])\n",
    "m=cv2.getPerspectiveTransform(scr1,dst1)\n",
    "new_img=cv2.warpPerspective(img5,m,(w,h))\n",
    "cv2.imshow(\"ashu\",new_img)\n",
    "cv2.imshow(\"ashu1\",img5)\n",
    "cv2.waitKey(0)\n",
    "cv2.destroyAllWindows()"
   ]
  },
  {
   "cell_type": "code",
   "execution_count": 3,
   "id": "51e7b3f2-a2f2-4c5e-8bbf-d645b51086a6",
   "metadata": {},
   "outputs": [],
   "source": [
    "import mediapipe as mp"
   ]
  },
  {
   "cell_type": "code",
   "execution_count": 4,
   "id": "97468868-a86b-4974-9cf1-8ad1941052c2",
   "metadata": {},
   "outputs": [],
   "source": [
    "mp_face_det=mp.solutions.face_detection\n",
    "mp_draw=mp.solutions.drawing_utils"
   ]
  },
  {
   "cell_type": "code",
   "execution_count": 6,
   "id": "eff490ed-daa1-4c31-9f5e-cc9e9d6e4923",
   "metadata": {},
   "outputs": [],
   "source": [
    "face_dect=mp_face_det.FaceDetection(min_detection_confidence=1,model_selection=0)\n",
    "cap=cv2.VideoCapture(0)\n",
    "while cap.isOpened():\n",
    "    r,frame=cap.read()\n",
    "    frame=cv2.flip(frame,1)\n",
    "    frame=cv2.cvtColor(frame,cv2.COLOR_BGR2RGB)\n",
    "    result=face_dect.process(frame)\n",
    "\n",
    "    frame=cv2.cvtColor(frame,cv2.COLOR_RGB2BGR)\n",
    "    if r==True:\n",
    "        for cr in result.detections:\n",
    "            mp_draw.draw_detection(frame,cr)\n",
    "        cv2.imshow(\"ashu\",frame)\n",
    "        if cv2.waitKey(1) & 0xff == ord(\"p\"):\n",
    "            break\n",
    "    else:\n",
    "        break\n",
    "cap.release()\n",
    "\n",
    "cv2.destroyAllWindows()\n",
    "          \n",
    "      "
   ]
  }
 ],
 "metadata": {
  "kernelspec": {
   "display_name": "Python 3 (ipykernel)",
   "language": "python",
   "name": "python3"
  },
  "language_info": {
   "codemirror_mode": {
    "name": "ipython",
    "version": 3
   },
   "file_extension": ".py",
   "mimetype": "text/x-python",
   "name": "python",
   "nbconvert_exporter": "python",
   "pygments_lexer": "ipython3",
   "version": "3.12.4"
  }
 },
 "nbformat": 4,
 "nbformat_minor": 5
}
